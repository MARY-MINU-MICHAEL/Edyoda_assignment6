{
  "nbformat": 4,
  "nbformat_minor": 0,
  "metadata": {
    "colab": {
      "provenance": []
    },
    "kernelspec": {
      "name": "python3",
      "display_name": "Python 3"
    },
    "language_info": {
      "name": "python"
    }
  },
  "cells": [
    {
      "cell_type": "code",
      "execution_count": null,
      "metadata": {
        "id": "dMQ_AQB-gZYO",
        "colab": {
          "base_uri": "https://localhost:8080/"
        },
        "outputId": "5cf15072-5da2-40f0-82b7-43355c0915ee"
      },
      "outputs": [
        {
          "output_type": "stream",
          "name": "stdout",
          "text": [
            "Name of the dog is Rocky and age of the dog is 5\n",
            "Coat color of the dog isBlack\n",
            "Enter current year: 2023\n",
            "2018\n",
            "Rocky is a perfect family dog, especially if you have kids over the age of three or four.\n",
            "Name of the dog is Jimmy and age of the dog is 4\n",
            "Coat color of the dog isWhite\n",
            "Enter current year: 2023\n",
            "2019\n",
            "Jimmy is an easy-going bulldog with a gentle nature.\n",
            "Bulldogs are characterized by their large heads and broad shoulders\n"
          ]
        }
      ],
      "source": [
        "class Dog:\n",
        "  def __init__(self,name,age,coat_color):\n",
        "    self.name=name\n",
        "    self.age=age\n",
        "    self.coat_color=coat_color\n",
        "\n",
        "  def description(self):\n",
        "    print(f'Name of the dog is {self.name} and age of the dog is {self.age}')\n",
        "  \n",
        "  def get_info(self):\n",
        "    print(f'Coat color of the dog is {self.coat_color}')\n",
        "\n",
        "class JackRussellTerrier(Dog):\n",
        "  def birth_year(self):\n",
        "    current_year=int(input('Enter current year: '))\n",
        "    birth_year=current_year-self.age\n",
        "    print(birth_year)\n",
        "  def family_dog(self):\n",
        "    print(f'{self.name} is a perfect family dog, especially if you have kids over the age of three or four.')\n",
        "\n",
        "class Bulldog(Dog):\n",
        "  def birth_year(self):\n",
        "    current_year=int(input('Enter current year: '))\n",
        "    birth_year=current_year-self.age\n",
        "    print(birth_year)\n",
        "  def behaviour(self):\n",
        "    print(f'{self.name} is an easy-going bulldog with a gentle nature.')\n",
        "  def physical_char(self):\n",
        "    print('Bulldogs are characterized by their large heads and broad shoulders')\n",
        "\n",
        "obj=JackRussellTerrier('Rocky',5,'Black')\n",
        "obj.description()\n",
        "obj.get_info()\n",
        "obj.birth_year()\n",
        "obj.family_dog()\n",
        "\n",
        "obj1=Bulldog('Jimmy',4,'White')\n",
        "obj1.description()\n",
        "obj1.get_info()\n",
        "obj1.birth_year()\n",
        "obj1.behaviour()\n",
        "obj1.physical_char()\n",
        "\n"
      ]
    },
    {
      "cell_type": "code",
      "source": [],
      "metadata": {
        "id": "2rAjGzl4XBbD"
      },
      "execution_count": null,
      "outputs": []
    }
  ]
}
